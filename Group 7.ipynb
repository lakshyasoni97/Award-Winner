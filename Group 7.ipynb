{
 "cells": [
  {
   "cell_type": "code",
   "execution_count": 182,
   "id": "2c811ce5",
   "metadata": {},
   "outputs": [],
   "source": [
    "# We approached the problem in two ways, and both the codes are present in this Jupyter Notebook.\n",
    "# We are Group-7 & following are our group members:\n",
    "# Kashyap Sekhada : 23PGAI0102\n",
    "# Lakshya Soni : 23PGAI00117\n",
    "# Hanymol B S : 23PGAI0050\n",
    "# Solomon Odum: 23PGAI00119"
   ]
  },
  {
   "cell_type": "code",
   "execution_count": 1,
   "id": "481d8475",
   "metadata": {},
   "outputs": [],
   "source": [
    "from bs4 import BeautifulSoup\n",
    "import requests\n",
    "import pandas as pd\n",
    "import numpy as np\n",
    "import re\n",
    "import json\n",
    "import imdb\n",
    "import spacy\n",
    "from pandas import json_normalize\n",
    "ia = imdb.Cinemagoer()"
   ]
  },
  {
   "cell_type": "code",
   "execution_count": 2,
   "id": "c702dd32",
   "metadata": {},
   "outputs": [],
   "source": [
    "nlp = spacy.load(\"en_core_web_sm\")"
   ]
  },
  {
   "cell_type": "code",
   "execution_count": 3,
   "id": "2b9b0dd7",
   "metadata": {},
   "outputs": [],
   "source": [
    "df = pd.read_json(r\"Twitter.json\")\n",
    "tweets = df[['text']].copy()"
   ]
  },
  {
   "cell_type": "markdown",
   "id": "b2e2b5a4",
   "metadata": {},
   "source": [
    "# ------------CODE 1----------------"
   ]
  },
  {
   "cell_type": "markdown",
   "id": "c4b44547",
   "metadata": {},
   "source": [
    "## Hosts"
   ]
  },
  {
   "cell_type": "code",
   "execution_count": 4,
   "id": "65a6d07c",
   "metadata": {},
   "outputs": [
    {
     "data": {
      "text/plain": [
       "{'hosts': ['Amy Poehler', 'Tina Fey']}"
      ]
     },
     "execution_count": 4,
     "metadata": {},
     "output_type": "execute_result"
    }
   ],
   "source": [
    "hosts = tweets[tweets['text'].str.contains('Host', case = False, na= False)]\n",
    "host_series = pd.Series(hosts['text'])\n",
    "host_filter = host_series.str.extractall(r\"(?P<name>[A-Z][a-z]* [A-Z][a-z]*)\")\n",
    "result = {}\n",
    "frequency = host_filter['name'].value_counts()\n",
    "sorted_hosts = frequency.sort_values(ascending = False)\n",
    "result['hosts'] = sorted_hosts.iloc[:2].index.values.tolist()\n",
    "result"
   ]
  },
  {
   "cell_type": "markdown",
   "id": "bfd41fb4",
   "metadata": {},
   "source": [
    "## Awards"
   ]
  },
  {
   "cell_type": "code",
   "execution_count": 5,
   "id": "a5e156d5",
   "metadata": {},
   "outputs": [
    {
     "data": {
      "text/plain": [
       "Best Actor in a Motion Picture - Drama                               2047\n",
       "Best Motion Picture - Comedy or Musical                              1737\n",
       "Best Actress in a Motion Picture - Comedy or Musical                 1646\n",
       "Best Television Series Actor - Drama                                 1570\n",
       "Best Motion Picture - Drama                                          1537\n",
       "Best Supporting Actor in a Television Series - Matt Bomer            1524\n",
       "Best Animated Feature Film - How To Train Your Dragon                1466\n",
       "Best Actress in a Motion Picture - Drama                             1457\n",
       "Best Actor in a Motion Picture - Comedy or Musical                   1285\n",
       "Best Supporting Actor in a Motion Picture - J                        1246\n",
       "Best Supporting Actress in a Motion Picture - Patricia Arquette      1144\n",
       "Best Miniseries or Motion Picture Made for Television - Fargo         994\n",
       "Best Actor in a TV Movie or Miniseries - Billy Bob Thornton           887\n",
       "Best Actress in a TV Movie or Miniseries - Maggie Gyllenhaal          812\n",
       "Best Foreign Film - Leviathan                                         775\n",
       "Best Actor in a Television Series - Comedy or Musical                 685\n",
       "Best Television Series - Comedy or Musical                            682\n",
       "Best Television Series - Drama                                        679\n",
       "Best Actress in a Television Series - Drama                           613\n",
       "Best Motion Picture - Drama                                           370\n",
       "Best Motion Picture - Musical or Comedy                               282\n",
       "Best Performance by an Actor in a Television Series - Drama           263\n",
       "Best Actor in a Motion Picture - Drama                                232\n",
       "Best Actor in a Motion Picture - Musical or Comedy                    214\n",
       "Best Original Song - Motion Picture                                   173\n",
       "Name: award, dtype: int64"
      ]
     },
     "execution_count": 5,
     "metadata": {},
     "output_type": "execute_result"
    }
   ],
   "source": [
    "awards = tweets[tweets['text'].str.contains('Best', case = False, na= False)]\n",
    "award_series = pd.Series(awards['text'])\n",
    "award_filter = award_series.str.extractall(r\"(?P<award>Best [A-Z][a-z]+ [A-Z*a-z ]+ - [A-Z*a-z ]+)\")\n",
    "award_frequency = award_filter['award'].value_counts()\n",
    "sorted_awards = award_frequency.sort_values(ascending = False)\n",
    "award = sorted_awards[:25].copy()\n",
    "award"
   ]
  },
  {
   "cell_type": "markdown",
   "id": "591d1a09",
   "metadata": {},
   "source": [
    "## Winners"
   ]
  },
  {
   "cell_type": "code",
   "execution_count": 9,
   "id": "87b81016",
   "metadata": {},
   "outputs": [
    {
     "data": {
      "text/plain": [
       "award                                               winner           \n",
       "Best Actor in a TV Drama                            Kevin Spacey         707\n",
       "Best Motion Picture Musical or Comedy               The Grand            362\n",
       "Best Actor in a Motion Picture Drama                Eddie Redmayne       336\n",
       "Best Supporting Actress in a Motion Picture         Patricia Arquette    194\n",
       "Best Actress in a TV Comedy or Musical              Gina Rodriguez       180\n",
       "Best Actor in a Motion Picture Comedy               Michael Keaton       175\n",
       "Best Actor in a TV Comedy                           Jeffrey Tambor       169\n",
       "Best Original Song in a Motion Picture              John Legend          166\n",
       "Best Actor in a TV Drama Series                     Kevin Spacey         166\n",
       "Best Dressed Men at the Golden Globes               Matt Bomer           156\n",
       "Best Actress in a Motion Picture Drama              Julianne Moore       146\n",
       "Best Dressed Couple                                 Diane Kruger         137\n",
       "Best Actress in a Motion Picture Musical or Comedy  Amy Adams            136\n",
       "Best Supporting Actress                             Patricia Arquette    130\n",
       "Best Actor in a Miniseries or TV Movie              Billy Bob            117\n",
       "Best Actor in a Drama                               Eddie Redmayne       116\n",
       "Best Actor in a TV Movie or Miniseries              Billy Bob            104\n",
       "Best Actress in a TV Drama                          Ruth Wilson           80\n",
       "Best Director - Motion Picture                      Richard Linklater     73\n",
       "Best Actress in a TV Movie or Miniseries            Maggie Gyllenhaal     72\n",
       "Best Supporting Actor in a TV Series                Matt Bomer            59\n",
       "Best Actress in Comedy                              Amy Adams             59\n",
       "Best Director in a Motion Picture                   Richard Linklater     45\n",
       "Best Actress in a TV Drama Series                   Ruth Wilson           37\n",
       "Best Supporting Actress                             Lady Edith            27\n",
       "Best Dressed Men at the Globes                      Matt Bomer            25\n",
       "Best Actor in a Drama                               Jay for               18\n",
       "Best Actress in a TV comedy                         Gina Rodriguez        15\n",
       "Best Dressed Men at the Golden Globes               Matt Boner            15\n",
       "Best Supporting Actor in a Television Series        Matt Bomer            13\n",
       "Best Original Score                                 Johann Johannsson     12\n",
       "Best Actress in a Comedy                            Gina Rodriquez        12\n",
       "Best Actress in a Drama                             Julianne Moore        12\n",
       "Best Foreign Language film                          Russian film           7\n",
       "Best Actress in a Motion Picture Comedy or Musical  Amy Adams              6\n",
       "Best Original Song                                  John Legend            6\n",
       "Best Actor in a motion picture drama                Eddie Redmayne         5\n",
       "Best Actress in a motion picture drama              Julianne Moore         5\n",
       "Best Actress in a Miniseries or TV Movie            Maggie Gyllenhaal      5\n",
       "dtype: int64"
      ]
     },
     "execution_count": 9,
     "metadata": {},
     "output_type": "execute_result"
    }
   ],
   "source": [
    "winner = award_series.str.extractall(r'(?P<award>Best [A-Z][a-z]+ [^F][A-Z*a-z ]+) goes to (?P<winner>[A-Z][a-z]+ [A-Z*a-z]+)')\n",
    "winner_frequency = winner.groupby(['award','winner']).size()\n",
    "sorted_winner = winner_frequency.sort_values(ascending = False)\n",
    "sorted_winner[:39]"
   ]
  },
  {
   "cell_type": "code",
   "execution_count": 12,
   "id": "47ab1e32",
   "metadata": {},
   "outputs": [
    {
     "data": {
      "text/plain": [
       "award                                      winner                                      \n",
       "Best Motion Picture Musical or Comedy      The Grand Budapest Hotel                        360\n",
       "Best Animated Feature Film                 How To Train Your Dragon                         82\n",
       "                                           How to Train Your Dragon                         79\n",
       "Best Nomination Face of the evening        Louis CK                                         15\n",
       "Best Animated Feature goes                 How To Train Your Dragon                         11\n",
       "Best Animated Film                         How To Train Your Dragon                          9\n",
       "Best Animated Feature                      How To Train Your Dragon                          7\n",
       "Best Animated Film                         How to Train Your Dragon                          4\n",
       "Best Motion Picture Comedy or Musical      Wes Anderson                                      3\n",
       "Best Motion Picture Musical or Comedy      The Grand Budapest Hotel                          2\n",
       "Best Motion Picture Drama                  Boyhood                                           2\n",
       "Best Motion Picture Comedy or Musical      The Grand Budapest Hotel                          2\n",
       "Best Animated Film                         How to Train a Dragon                             2\n",
       "Best Animated Feature                      How to Train Your Dragon                          2\n",
       "Best Motion Picture for Musical or Comedy  The Grand Budapest Hotel                          1\n",
       "Best Motion Picture Comedy or Musical      The Grand Budapest Hotel                          1\n",
       "Best Motion Picture Director               Richard Linklater                                 1\n",
       "Best Actor for TV Comedy                   Jeffrey Tambor                                    1\n",
       "Best Comedy Performance at an Awards Show  Sacha Baron Cohen for playing Prince at the       1\n",
       "Best Foreign Film                          Russian film                                      1\n",
       "Best Director for a Motion Picture         Richard Linklater for his movie                   1\n",
       "                                           Richard Linklater                                 1\n",
       "Best Director for Drama                    Richard Linklater for Boyhood                     1\n",
       "Best Actress for a miniseries or TV movie  Maggie Gyllenhaal                                 1\n",
       "Best Animation pic                         How to Train your Dragon                          1\n",
       "Best Animated Picture                      How to Train Your Dragon                          1\n",
       "Best Animated Film                         How to train your dragon                          1\n",
       "Best Animated Feature Film                 How To Train A Dragon                             1\n",
       "Best Supporting Porn Mustache              Colin Farrell                                     1\n",
       "dtype: int64"
      ]
     },
     "execution_count": 12,
     "metadata": {},
     "output_type": "execute_result"
    }
   ],
   "source": [
    "winner_film = award_series.str.extractall(r'(?P<award>Best [A-Z][a-z]+ [FfPp][A-Z*a-z ]+) goes to (?P<winner>[A-Z][a-z]+ [A-Z*a-z ]+)')    \n",
    "film_frequency = winner_film.groupby(['award','winner']).size()\n",
    "sorted_film = film_frequency.sort_values(ascending = False)\n",
    "sorted_film"
   ]
  },
  {
   "cell_type": "markdown",
   "id": "73fc5e96",
   "metadata": {},
   "source": [
    "# ------------CODE 2----------------"
   ]
  },
  {
   "cell_type": "code",
   "execution_count": 13,
   "id": "df4acc59",
   "metadata": {},
   "outputs": [],
   "source": [
    "t = open(\"Twitter.json\", encoding = 'utf-8')\n",
    "data = json.load(t)"
   ]
  },
  {
   "cell_type": "markdown",
   "id": "93916746",
   "metadata": {},
   "source": [
    "# Hosts"
   ]
  },
  {
   "cell_type": "code",
   "execution_count": 14,
   "id": "55a52a0a",
   "metadata": {},
   "outputs": [],
   "source": [
    "'''\n",
    "This function verifies if the given name is name of an actor.\n",
    "'''\n",
    "def check_if_actor_exists(original_name):\n",
    "    original_name = original_name.lower().strip()\n",
    "    search_name = original_name.replace(\" \", \"+\")\n",
    "    result = requests.get(f\"https://www.imdb.com/search/name/?name={search_name}\")\n",
    "    soup = BeautifulSoup(result.text)\n",
    "    all_models = soup.find_all(\"div\", {\"class\": \"lister-item mode-detail\"})\n",
    "    if len(all_models) > 0:\n",
    "        for single_model in all_models:\n",
    "            name = single_model.find_all(\"a\")[1].text.lower().strip()\n",
    "            if name == original_name:\n",
    "                return True\n",
    "    return False"
   ]
  },
  {
   "cell_type": "code",
   "execution_count": 15,
   "id": "de06c9a1",
   "metadata": {},
   "outputs": [
    {
     "data": {
      "text/plain": [
       "['Amy Poehler', 'Tina Fey']"
      ]
     },
     "execution_count": 15,
     "metadata": {},
     "output_type": "execute_result"
    }
   ],
   "source": [
    "'''\n",
    "This funtion is used to get the hosts of the ceremony\n",
    "'''\n",
    "def get_host():\n",
    "    result = {}\n",
    "    list_found = []\n",
    "    for i in data:\n",
    "        found = re.search('(H|h)ost', i[\"text\"])\n",
    "        if found:\n",
    "            doubt = re.search('shoud have|could have|hope|Best of luck|drea(m|ms)',i['text'])\n",
    "            if not doubt:\n",
    "                patt = re.compile(r'[A-Z][a-z]+ [A-Z][a-z]+')\n",
    "                matches = patt.findall(i[\"text\"])\n",
    "                for match in matches:\n",
    "                    if match in result:\n",
    "                        result[match] += 1\n",
    "                    else:\n",
    "                        result[match] = 1\n",
    "    sorted_hosts = sorted(result.items(), key=lambda x:x[1], reverse=True)\n",
    "    converted_dict = dict(sorted_hosts)\n",
    "    hosts = list(converted_dict.keys())[:2]\n",
    "    return hosts\n",
    "hosts = get_host()\n",
    "hosts"
   ]
  },
  {
   "cell_type": "markdown",
   "id": "87d38ea7",
   "metadata": {},
   "source": [
    "# Awards Category"
   ]
  },
  {
   "cell_type": "code",
   "execution_count": 16,
   "id": "441e481a",
   "metadata": {},
   "outputs": [],
   "source": [
    "def get_award():\n",
    "    result = {}\n",
    "    for i in data:\n",
    "        found = re.search('(B|b)est', i[\"text\"])\n",
    "        if found:\n",
    "            patt = re.compile(r'Best [A-Z][a-z]+ [A-Za-z ]+ goes to [A-Za-z0-9 ]+')\n",
    "            matches = patt.findall(i[\"text\"])\n",
    "            for match in matches:\n",
    "                cat = match.strip()\n",
    "                if cat in result:\n",
    "                    result[cat] += 1\n",
    "                else:\n",
    "                    result[cat] = 1\n",
    "    category_dict = sorted(result.items(), key=lambda x:x[1], reverse=True) # sorts the names according to the frequency\n",
    "    category_dict = dict(category_dict)\n",
    "    categories = list(category_dict.keys())\n",
    "    return categories\n",
    "awards = get_award()"
   ]
  },
  {
   "cell_type": "code",
   "execution_count": 17,
   "id": "b8861752",
   "metadata": {},
   "outputs": [],
   "source": [
    "'''\n",
    "This function filters out all the categories containing the keywords \"Actors\" and \"Actresses\"\n",
    "'''\n",
    "def get_person_categories():\n",
    "    person_category_genre = []\n",
    "    lst = ['Actress', 'Actor' ]\n",
    "    for award in awards:\n",
    "        category = award.split('goes to')[0]\n",
    "        for i in lst:\n",
    "            if i in category.split():\n",
    "                person_category_genre.append(category)\n",
    "    person_category_genre = list(person_category_genre)\n",
    "    return person_category_genre[:20]\n",
    "person_category_genre = get_person_categories()"
   ]
  },
  {
   "cell_type": "code",
   "execution_count": 18,
   "id": "085a62a6",
   "metadata": {},
   "outputs": [],
   "source": [
    "'''\n",
    "This function fetches all the remaining categories\n",
    "'''\n",
    "def get_movie_category():\n",
    "    movie_category_genre = []\n",
    "    lst = ['Actress', 'Actor' ]\n",
    "    for category in awards:\n",
    "        # category = award.split('goes to')[0]\n",
    "        cat_split = category.split()\n",
    "        if 'Actress' not in cat_split and 'Actor' not in cat_split:\n",
    "            movie_category_genre.append(category)\n",
    "    return movie_category_genre[:10]\n",
    "movie_category_genre = get_movie_category()"
   ]
  },
  {
   "cell_type": "markdown",
   "id": "8fd43aff",
   "metadata": {},
   "source": [
    "# Winners"
   ]
  },
  {
   "cell_type": "code",
   "execution_count": 21,
   "id": "7a7cad57",
   "metadata": {},
   "outputs": [
    {
     "data": {
      "text/plain": [
       "{'Best Actor in a TV Drama ': 'Kevin Spacey',\n",
       " 'Best Actor in a Motion Picture Drama ': 'Eddie Redmayne',\n",
       " 'Best Actor in a Motion Picture Comedy ': 'Michael Keaton',\n",
       " 'Best Actor in a TV Comedy ': 'Jeffrey Tambor',\n",
       " 'Best Actor in a TV Drama Series ': 'Kevin Spacey',\n",
       " 'Best Actress in a TV Comedy or Musical ': 'Gina Rodriguez',\n",
       " 'Best Actress in a Motion Picture Drama ': 'Julianne Moore',\n",
       " 'Best Actress in a Motion Picture Musical or Comedy ': 'Amy Adams',\n",
       " 'Best Supporting Actress ': 'Patricia Arquette',\n",
       " 'Best Actor in a Miniseries or TV Movie ': 'Billy Bob',\n",
       " 'Best Supporting Actor in a Motion Picture ': 'K Simmons',\n",
       " 'Best Actor in a Drama ': 'Eddie Redmayne',\n",
       " 'Best Supporting Actress in a Motion Picture ': 'Patricia Arquette',\n",
       " 'Best Actress in a TV Drama ': 'Ruth Wilson',\n",
       " 'Best Actress in a TV Movie or Miniseries ': 'Maggie Gyllenhaal',\n",
       " 'Best Actor in a TV Movie or Miniseries ': 'Billy Bob',\n",
       " 'Best Actress in Comedy ': 'Amy Adams',\n",
       " 'Best Supporting Actor in a TV Series ': 'Matt Bomer',\n",
       " 'Best Actress in a TV Drama Series ': 'Ruth Wilson'}"
      ]
     },
     "execution_count": 21,
     "metadata": {},
     "output_type": "execute_result"
    }
   ],
   "source": [
    "'''\n",
    "This function fetches the winners along with the categories containing the keywords \"Actors\" and \"Actresses\"\n",
    "'''\n",
    "def get_winners():\n",
    "    win = dict()\n",
    "    for category in person_category_genre:\n",
    "        result = {}\n",
    "        for i in data:\n",
    "            found = re.search(category, i[\"text\"])\n",
    "            if found:\n",
    "                patt1 = re.compile(r'[A-Z][a-z]* [A-Z][a-z]*')\n",
    "                matches = patt1.findall(i[\"text\"])\n",
    "                for match in matches:\n",
    "                    for i in match.split():\n",
    "                        if i not in category.split():\n",
    "                            if match.strip() in result:\n",
    "                                result[match.strip()] += 1\n",
    "                            else:\n",
    "                                result[match.strip()] = 1\n",
    "        sorted_winner = sorted(result.items(), key=lambda x:x[1], reverse=True)\n",
    "        for winner in sorted_winner:\n",
    "            win[category] = sorted_winner[:1][0][0]\n",
    "    return win\n",
    "winners = get_winners()\n",
    "winners"
   ]
  },
  {
   "cell_type": "code",
   "execution_count": 22,
   "id": "f7d1ffdf",
   "metadata": {},
   "outputs": [
    {
     "data": {
      "text/plain": [
       "[['Best Motion Picture Musical or Comedy ', ' The Grand Budapest Hotel'],\n",
       " ['Best Original Song in a Motion Picture ', ' John Legend and Common for'],\n",
       " ['Best Dressed Men at the Golden Globes ', ' Matt Bomer'],\n",
       " ['Best Dressed Couple ', ' Diane Kruger'],\n",
       " ['Best Animated Feature ', ' HOW TO TRAIN YOUR DRAGON 2'],\n",
       " ['Best Animated Feature Film ', ' How To Train Your Dragon 2'],\n",
       " ['Best Animated Feature Film ', ' How to Train Your Dragon 2'],\n",
       " ['Best Foreign Film ', ' LEVIATHAN'],\n",
       " ['Best Original Score ', ' THEORY OF EVERYTHING'],\n",
       " ['Best Foreign Language Film ', ' Leviathan']]"
      ]
     },
     "execution_count": 22,
     "metadata": {},
     "output_type": "execute_result"
    }
   ],
   "source": [
    "'''\n",
    "Gets the records of all the winners of the remaining categories\n",
    "'''\n",
    "def get_winners_rest():\n",
    "    result = []\n",
    "    win = dict()\n",
    "    role = ['actor', 'actress']\n",
    "    for category in movie_category_genre:\n",
    "        winner = category.split(\"goes to\")\n",
    "        if winner not in result:\n",
    "            result.append(winner)\n",
    "    return result\n",
    "winners_rest = get_winners_rest()\n",
    "winners_rest"
   ]
  },
  {
   "cell_type": "markdown",
   "id": "2a2e283e",
   "metadata": {},
   "source": [
    "## Nominee"
   ]
  },
  {
   "cell_type": "code",
   "execution_count": 23,
   "id": "85d3b819",
   "metadata": {},
   "outputs": [
    {
     "data": {
      "text/plain": [
       "['Kevin Spacey',\n",
       " 'Calvin Klein',\n",
       " 'George Clooney',\n",
       " 'Bill Murray',\n",
       " 'Amy Adams',\n",
       " 'One Direction',\n",
       " 'Conchita Wurst',\n",
       " 'Meryl Streep',\n",
       " 'Ava Duvernay',\n",
       " 'Rosamund Pike',\n",
       " 'Matt Lauer',\n",
       " 'Julianne Moore',\n",
       " 'The Normal',\n",
       " 'Gina Rodriguez',\n",
       " 'Amy Poehler',\n",
       " 'Susan Lucci',\n",
       " 'Jennifer Aniston',\n",
       " 'Keira Knightley',\n",
       " 'Christoph Waltz',\n",
       " 'Eddie Redmayne',\n",
       " 'Benedict Cumberbatch',\n",
       " 'Kerry Washington',\n",
       " 'Lois Lane',\n",
       " 'Julianna Margulies',\n",
       " 'Jake Gyllenhaal',\n",
       " 'Don Cheadle',\n",
       " 'Black List',\n",
       " 'Amal Clooney',\n",
       " 'Vera Wang',\n",
       " 'Gone Girl',\n",
       " 'Felicity Jones',\n",
       " 'Big Eyes',\n",
       " 'James Spader',\n",
       " 'Tatiana Maslany',\n",
       " 'Bill Hader',\n",
       " 'Channing Tatum',\n",
       " 'Robin Wright',\n",
       " 'Clive Owen',\n",
       " 'Maggie Gyllenhaal',\n",
       " 'Jessica Lange',\n",
       " 'Viola Davis',\n",
       " 'Jeffrey Tambor',\n",
       " 'Emma Stone',\n",
       " 'Emily Blunt',\n",
       " 'Jessica Chastain',\n",
       " 'The Stars',\n",
       " 'Naomi Watts',\n",
       " 'Michael Keaton',\n",
       " 'Matt Bomer',\n",
       " 'Kristen Wiig',\n",
       " 'Yemi Alade',\n",
       " 'Jeremy Renner',\n",
       " 'Michael Fassbender',\n",
       " 'Edie Falco',\n",
       " 'Jane Fonda',\n",
       " 'Taylor Schilling',\n",
       " 'Kate Hudson',\n",
       " 'David Oyelowo',\n",
       " 'The Wire',\n",
       " 'Lily Tomlin',\n",
       " 'Patricia Arquette',\n",
       " 'Kathy Bates',\n",
       " 'Helen Mirren',\n",
       " 'Ethan Hawke',\n",
       " 'Mark Ruffalo',\n",
       " 'Tina Fey',\n",
       " 'Kate Mara',\n",
       " 'Joanne Froggatt',\n",
       " 'Stephen Hawking',\n",
       " 'Lena Dunham',\n",
       " 'Kevork Djansezian',\n",
       " 'Ruth Wilson',\n",
       " 'Allison Janney',\n",
       " 'Colin Hanks',\n",
       " 'Alan Cumming',\n",
       " 'Billy Bob',\n",
       " 'Harrison Ford',\n",
       " 'Angelina Jolie',\n",
       " 'Good Luck',\n",
       " 'Ricky Gervais',\n",
       " 'Claire Danes',\n",
       " 'Reese Witherspoon',\n",
       " 'Wes Anderson',\n",
       " 'Kim Jong',\n",
       " 'Ryan Seacrest',\n",
       " 'Darren Le',\n",
       " 'Peter Dinklage',\n",
       " 'Anna Kendrick']"
      ]
     },
     "execution_count": 23,
     "metadata": {},
     "output_type": "execute_result"
    }
   ],
   "source": [
    "'''\n",
    "This function fetches the list of all the nominees\n",
    "Since this functions uses imdb website to verify the names of actors, it might take time to run the function\n",
    "'''\n",
    "def get_nominee():\n",
    "    result = {}\n",
    "    list_found = []\n",
    "    for i in data:\n",
    "        found = re.search('[Nn]omin[a-z]+', i[\"text\"])\n",
    "        if found:\n",
    "            patt = re.compile(r'[A-Z][a-z]+ [A-Z][a-z]+')\n",
    "            matches = patt.findall(i[\"text\"])\n",
    "            for match in matches:\n",
    "                if match in result:\n",
    "                    result[match] += 1\n",
    "                else:\n",
    "                    result[match] = 1\n",
    "    sorted_nominee = sorted(result.items(), key=lambda x:x[1], reverse=True)\n",
    "    sorted_nominee = dict(sorted_nominee)\n",
    "    for nominee in list(sorted_nominee.keys())[:200]:\n",
    "        if check_if_actor_exists(nominee): # searches on the imdb website if the actor exists\n",
    "                list_found.append(nominee)\n",
    "    return list_found\n",
    "nominee = get_nominee()\n",
    "nominee"
   ]
  },
  {
   "cell_type": "markdown",
   "id": "e98812d7",
   "metadata": {},
   "source": [
    "## Presenters"
   ]
  },
  {
   "cell_type": "code",
   "execution_count": 24,
   "id": "6269943b",
   "metadata": {},
   "outputs": [
    {
     "data": {
      "text/plain": [
       "['Salma Hayek',\n",
       " 'Jamie Dornan',\n",
       " 'Dakota Johnson',\n",
       " 'Naomi Watts',\n",
       " 'Meryl Streep',\n",
       " 'Katie Holmes',\n",
       " 'Jennifer Lopez',\n",
       " 'Benedict Cumberbatch',\n",
       " 'Jennifer Aniston',\n",
       " 'John Legend',\n",
       " 'Amal Clooney',\n",
       " 'Bill Hader',\n",
       " 'Ricky Gervais',\n",
       " 'Jared Leto',\n",
       " 'Chris Pratt',\n",
       " 'Anna Faris',\n",
       " 'Jeremy Renner',\n",
       " 'George Clooney',\n",
       " 'Eddie Redmayne',\n",
       " 'Kevin Hart',\n",
       " 'Kristen Wiig',\n",
       " 'Gina Rodriguez',\n",
       " 'Joshua Jackson',\n",
       " 'Julianna Margulies',\n",
       " 'Amy Adams',\n",
       " 'Adam Levine',\n",
       " 'Mike Ruffin',\n",
       " 'Paul Rudd',\n",
       " 'Don Cheadle',\n",
       " 'Walter White',\n",
       " 'Olivia Pope',\n",
       " 'Vince Vaughn',\n",
       " 'Jack Black',\n",
       " 'Ryan Seacrest',\n",
       " 'Kerry Washington',\n",
       " 'Richard Linklater',\n",
       " 'Harrison Ford',\n",
       " 'John Nendick',\n",
       " 'Karen Angel',\n",
       " 'Andy Sale',\n",
       " 'Channing Tatum',\n",
       " 'Katherine Heigl',\n",
       " 'Kate Hudson',\n",
       " 'Bryan Cranston',\n",
       " 'Robert Downey',\n",
       " 'Katie Cassidy',\n",
       " 'Lily Tomlin',\n",
       " 'Jeffrey Tambor',\n",
       " 'Michael Keaton',\n",
       " 'Wes Anderson']"
      ]
     },
     "execution_count": 24,
     "metadata": {},
     "output_type": "execute_result"
    }
   ],
   "source": [
    "'''\n",
    "This function fetches the list of all the presenters\n",
    "Since this functions uses imdb website to verify the names of actors, it might take time to run the function\n",
    "'''\n",
    "def get_presenters():\n",
    "    result = {}\n",
    "    varified_presenters = []\n",
    "    for i in data:\n",
    "        found = re.search('(P|p)resent(ing|ed)', i[\"text\"])\n",
    "        if found:        \n",
    "            patt = re.compile(r'[A-Z][a-z]+ [A-Z][a-z]+')\n",
    "            matches = patt.findall(i[\"text\"])\n",
    "            for match in matches:\n",
    "                if match in result:\n",
    "                    result[match] += 1\n",
    "                else:\n",
    "                    result[match] = 1\n",
    "\n",
    "    sorted_hosts = sorted(result.items(), key=lambda x:x[1], reverse=True)\n",
    "    presenters_dict = dict(sorted_hosts)\n",
    "    d = dict((k, v) for k, v in presenters_dict.items() if v >= 10) #taking presenters name who are repeated more than 10 times.\n",
    "    for i in d.keys():\n",
    "        if check_if_actor_exists(i) == True:   #verifing the person name with IMDB\n",
    "            varified_presenters.append(i)\n",
    "    return varified_presenters\n",
    "presenters = get_presenters()\n",
    "presenters"
   ]
  },
  {
   "cell_type": "markdown",
   "id": "0eeb654d",
   "metadata": {},
   "source": [
    "## Favorites"
   ]
  },
  {
   "cell_type": "code",
   "execution_count": 30,
   "id": "831bd0de",
   "metadata": {},
   "outputs": [
    {
     "data": {
      "text/plain": [
       "['Patricia Arquette',\n",
       " 'Jessica Lange',\n",
       " 'Tina Fey',\n",
       " 'George Clooney',\n",
       " 'Eddie Redmayne',\n",
       " 'Amal Clooney',\n",
       " 'Amy Poehler',\n",
       " 'Meryl Streep',\n",
       " 'Dakota Johnson',\n",
       " 'Gina Rodriguez',\n",
       " 'Diane Kruger']"
      ]
     },
     "execution_count": 30,
     "metadata": {},
     "output_type": "execute_result"
    }
   ],
   "source": [
    "# Function to get the favorites\n",
    "def get_favorites():\n",
    "    favorites = []\n",
    "    result = {}\n",
    "    list_found = []\n",
    "    for i in data:\n",
    "        found = re.search('shoud have|could have|hope|excited|my favourite|favourite', i[\"text\"])\n",
    "        if found:\n",
    "            patt = re.compile(r'[A-Z][a-z]+ [A-Z][a-z]+')\n",
    "            matches = patt.findall(i[\"text\"])\n",
    "            for match in matches:\n",
    "                if match in result:\n",
    "                    result[match] += 1\n",
    "                else:\n",
    "                    result[match] = 1\n",
    "    sorted_hosts = sorted(result.items(), key=lambda x:x[1], reverse=True)\n",
    "    converted_dict = dict(sorted_hosts)         \n",
    "    for keys,values in list(converted_dict.items())[:15]:\n",
    "        if check_if_actor_exists(keys):\n",
    "            favorites.append(keys)\n",
    "    return favorites\n",
    "favorites = get_favorites()\n",
    "favorites"
   ]
  },
  {
   "cell_type": "code",
   "execution_count": 31,
   "id": "167e33b6",
   "metadata": {},
   "outputs": [
    {
     "name": "stdout",
     "output_type": "stream",
     "text": [
      "Following are the hosts of the award ceremony\n",
      " ['Amy Poehler', 'Tina Fey']\n",
      "\n",
      "\n",
      "Following is a list of all the presenters of different categories:\n",
      " ['Salma Hayek', 'Jamie Dornan', 'Dakota Johnson', 'Naomi Watts', 'Meryl Streep', 'Katie Holmes', 'Jennifer Lopez', 'Benedict Cumberbatch', 'Jennifer Aniston', 'John Legend', 'Amal Clooney', 'Bill Hader', 'Ricky Gervais', 'Jared Leto', 'Chris Pratt', 'Anna Faris', 'Jeremy Renner', 'George Clooney', 'Eddie Redmayne', 'Kevin Hart', 'Kristen Wiig', 'Gina Rodriguez', 'Joshua Jackson', 'Julianna Margulies', 'Amy Adams', 'Adam Levine', 'Mike Ruffin', 'Paul Rudd', 'Don Cheadle', 'Walter White', 'Olivia Pope', 'Vince Vaughn', 'Jack Black', 'Ryan Seacrest', 'Kerry Washington', 'Richard Linklater', 'Harrison Ford', 'John Nendick', 'Karen Angel', 'Andy Sale', 'Channing Tatum', 'Katherine Heigl', 'Kate Hudson', 'Bryan Cranston', 'Robert Downey', 'Katie Cassidy', 'Lily Tomlin', 'Jeffrey Tambor', 'Michael Keaton', 'Wes Anderson']\n",
      "\n",
      "\n",
      "Following is a list of all the nominee of different categories:\n",
      " ['Kevin Spacey', 'Calvin Klein', 'George Clooney', 'Bill Murray', 'Amy Adams', 'One Direction', 'Conchita Wurst', 'Meryl Streep', 'Ava Duvernay', 'Rosamund Pike', 'Matt Lauer', 'Julianne Moore', 'The Normal', 'Gina Rodriguez', 'Amy Poehler', 'Susan Lucci', 'Jennifer Aniston', 'Keira Knightley', 'Christoph Waltz', 'Eddie Redmayne', 'Benedict Cumberbatch', 'Kerry Washington', 'Lois Lane', 'Julianna Margulies', 'Jake Gyllenhaal', 'Don Cheadle', 'Black List', 'Amal Clooney', 'Vera Wang', 'Gone Girl', 'Felicity Jones', 'Big Eyes', 'James Spader', 'Tatiana Maslany', 'Bill Hader', 'Channing Tatum', 'Robin Wright', 'Clive Owen', 'Maggie Gyllenhaal', 'Jessica Lange', 'Viola Davis', 'Jeffrey Tambor', 'Emma Stone', 'Emily Blunt', 'Jessica Chastain', 'The Stars', 'Naomi Watts', 'Michael Keaton', 'Matt Bomer', 'Kristen Wiig', 'Yemi Alade', 'Jeremy Renner', 'Michael Fassbender', 'Edie Falco', 'Jane Fonda', 'Taylor Schilling', 'Kate Hudson', 'David Oyelowo', 'The Wire', 'Lily Tomlin', 'Patricia Arquette', 'Kathy Bates', 'Helen Mirren', 'Ethan Hawke', 'Mark Ruffalo', 'Tina Fey', 'Kate Mara', 'Joanne Froggatt', 'Stephen Hawking', 'Lena Dunham', 'Kevork Djansezian', 'Ruth Wilson', 'Allison Janney', 'Colin Hanks', 'Alan Cumming', 'Billy Bob', 'Harrison Ford', 'Angelina Jolie', 'Good Luck', 'Ricky Gervais', 'Claire Danes', 'Reese Witherspoon', 'Wes Anderson', 'Kim Jong', 'Ryan Seacrest', 'Darren Le', 'Peter Dinklage', 'Anna Kendrick']\n",
      "\n",
      "\n",
      "Following is a record of all the winners of different categories:\n",
      " {'Best Actor in a TV Drama ': 'Kevin Spacey', 'Best Actor in a Motion Picture Drama ': 'Eddie Redmayne', 'Best Actor in a Motion Picture Comedy ': 'Michael Keaton', 'Best Actor in a TV Comedy ': 'Jeffrey Tambor', 'Best Actor in a TV Drama Series ': 'Kevin Spacey', 'Best Actress in a TV Comedy or Musical ': 'Gina Rodriguez', 'Best Actress in a Motion Picture Drama ': 'Julianne Moore', 'Best Actress in a Motion Picture Musical or Comedy ': 'Amy Adams', 'Best Supporting Actress ': 'Patricia Arquette', 'Best Actor in a Miniseries or TV Movie ': 'Billy Bob', 'Best Supporting Actor in a Motion Picture ': 'K Simmons', 'Best Actor in a Drama ': 'Eddie Redmayne', 'Best Supporting Actress in a Motion Picture ': 'Patricia Arquette', 'Best Actress in a TV Drama ': 'Ruth Wilson', 'Best Actress in a TV Movie or Miniseries ': 'Maggie Gyllenhaal', 'Best Actor in a TV Movie or Miniseries ': 'Billy Bob', 'Best Actress in Comedy ': 'Amy Adams', 'Best Supporting Actor in a TV Series ': 'Matt Bomer', 'Best Actress in a TV Drama Series ': 'Ruth Wilson'} [['Best Motion Picture Musical or Comedy ', ' The Grand Budapest Hotel'], ['Best Original Song in a Motion Picture ', ' John Legend and Common for'], ['Best Dressed Men at the Golden Globes ', ' Matt Bomer'], ['Best Dressed Couple ', ' Diane Kruger'], ['Best Animated Feature ', ' HOW TO TRAIN YOUR DRAGON 2'], ['Best Animated Feature Film ', ' How To Train Your Dragon 2'], ['Best Animated Feature Film ', ' How to Train Your Dragon 2'], ['Best Foreign Film ', ' LEVIATHAN'], ['Best Original Score ', ' THEORY OF EVERYTHING'], ['Best Foreign Language Film ', ' Leviathan']]\n",
      "\n",
      "\n",
      "Following is a list of all the favorites:\n",
      " ['Patricia Arquette', 'Jessica Lange', 'Tina Fey', 'George Clooney', 'Eddie Redmayne', 'Amal Clooney', 'Amy Poehler', 'Meryl Streep', 'Dakota Johnson', 'Gina Rodriguez', 'Diane Kruger']\n"
     ]
    }
   ],
   "source": [
    "# Following are the records of all the hosts, presenters, nominee and winners\n",
    "print('Following are the hosts of the award ceremony\\n',hosts)\n",
    "print('\\n\\nFollowing is a list of all the presenters of different categories:\\n', presenters)\n",
    "print('\\n\\nFollowing is a list of all the nominee of different categories:\\n', nominee)\n",
    "print('\\n\\nFollowing is a record of all the winners of different categories:\\n', winners, winners_rest)\n",
    "print('\\n\\nFollowing is a list of all the favorites:\\n', favorites)"
   ]
  },
  {
   "cell_type": "code",
   "execution_count": null,
   "id": "fbe556ba",
   "metadata": {},
   "outputs": [],
   "source": []
  }
 ],
 "metadata": {
  "kernelspec": {
   "display_name": "Python 3.9.12 ('base')",
   "language": "python",
   "name": "python3"
  },
  "language_info": {
   "codemirror_mode": {
    "name": "ipython",
    "version": 3
   },
   "file_extension": ".py",
   "mimetype": "text/x-python",
   "name": "python",
   "nbconvert_exporter": "python",
   "pygments_lexer": "ipython3",
   "version": "3.9.12"
  },
  "vscode": {
   "interpreter": {
    "hash": "6ed8aca7fed9ecfd3a9ccd057add9e6df72a63213251f7c714703fbd2684411d"
   }
  }
 },
 "nbformat": 4,
 "nbformat_minor": 5
}
